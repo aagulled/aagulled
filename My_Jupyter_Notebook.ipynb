{
  "nbformat": 4,
  "nbformat_minor": 0,
  "metadata": {
    "colab": {
      "name": "My Jupyter Notebook.ipynb",
      "provenance": [],
      "collapsed_sections": []
    },
    "kernelspec": {
      "name": "python3",
      "display_name": "Python 3"
    },
    "language_info": {
      "name": "python"
    }
  },
  "cells": [
    {
      "cell_type": "code",
      "execution_count": null,
      "metadata": {
        "id": "cBtFdWp7-eiU"
      },
      "outputs": [],
      "source": [
        ""
      ]
    },
    {
      "cell_type": "markdown",
      "source": [
        "My Jupyter Notebook on Google's Colab\n",
        "\n"
      ],
      "metadata": {
        "id": "jg5JYAqG-nRO"
      }
    },
    {
      "cell_type": "markdown",
      "source": [
        "**Abdulkadir Gulled**"
      ],
      "metadata": {
        "id": "mWtjBP4i_Smx"
      }
    },
    {
      "cell_type": "markdown",
      "source": [
        "*I am interested in data science becuase I want to learn analystical skills and solve business problems.*"
      ],
      "metadata": {
        "id": "GoDgu14-_TLU"
      }
    },
    {
      "cell_type": "markdown",
      "source": [
        "The following code will print Hello World twice using the Python programming language"
      ],
      "metadata": {
        "id": "2Zd7hDFMDE6P"
      }
    },
    {
      "cell_type": "code",
      "source": [
        "print(\"Hello World\")\n",
        "\n",
        "greeting = \"Hello World\"\n",
        "\n",
        "print(greeting)"
      ],
      "metadata": {
        "colab": {
          "base_uri": "https://localhost:8080/"
        },
        "id": "dI5eFiB7BOsJ",
        "outputId": "a8e65bcc-51b0-4536-ecbb-aa8248556bda"
      },
      "execution_count": 3,
      "outputs": [
        {
          "output_type": "stream",
          "name": "stdout",
          "text": [
            "Hello World\n",
            "Hello World\n"
          ]
        }
      ]
    },
    {
      "cell_type": "markdown",
      "source": [
        "\n",
        "\n",
        "---\n",
        "\n"
      ],
      "metadata": {
        "id": "QMVon0fpB_3d"
      }
    }
  ]
}